{
  "nbformat": 4,
  "nbformat_minor": 0,
  "metadata": {
    "colab": {
      "provenance": []
    },
    "kernelspec": {
      "name": "python3",
      "display_name": "Python 3"
    },
    "language_info": {
      "name": "python"
    }
  },
  "cells": [
    {
      "cell_type": "code",
      "execution_count": null,
      "metadata": {
        "id": "M4-PyUDlwlh3"
      },
      "outputs": [],
      "source": [
        "@patch(\"rss_collector.utils.get_proxy_settings\")\n",
        "def test_process_feeds_proxy_and_fetch_mocked(mock_get_proxy_settings, mock_proxy_settings):\n",
        "    \"\"\"\n",
        "    Test proxy settings and simulate feed fetching with a simplified mock.\n",
        "    \"\"\"\n",
        "    print(\"Starting test_process_feeds_proxy_and_fetch_mocked\")\n",
        "\n",
        "    # Mock proxy settings\n",
        "    mock_get_proxy_settings.return_value = mock_proxy_settings\n",
        "    print(\"Mocked proxy settings\")\n",
        "\n",
        "    # Simplified mock for content fetching\n",
        "    def mock_fetch_feed(feed_url, **kwargs):\n",
        "        print(f\"Mock fetching content for URL: {feed_url}\")\n",
        "        return \"Mock RSS Feed Content\"\n",
        "\n",
        "    # Patch process_feeds to use the mock_fetch_feed\n",
        "    with patch(\"rss_collector.proxy.fetch_feed_content_with_proxy\", side_effect=mock_fetch_feed):\n",
        "        feed_urls = [\"http://mock_feed_1.com/rss\", \"http://mock_feed_2.com/rss\"]\n",
        "        process_feeds(feed_urls)\n",
        "\n",
        "    print(\"Finished process_feeds in mocked test\")\n",
        "\n",
        "    # Assertions\n",
        "    mock_get_proxy_settings.assert_called_once()\n",
        "    print(\"Proxy settings assertion passed\")\n"
      ]
    }
  ]
}