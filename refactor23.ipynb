{
  "nbformat": 4,
  "nbformat_minor": 0,
  "metadata": {
    "colab": {
      "provenance": []
    },
    "kernelspec": {
      "name": "python3",
      "display_name": "Python 3"
    },
    "language_info": {
      "name": "python"
    }
  },
  "cells": [
    {
      "cell_type": "code",
      "execution_count": null,
      "metadata": {
        "id": "xiK_vFJk3JBs"
      },
      "outputs": [],
      "source": [
        "@patch(\"rss_collector.orchestration.get_proxy_settings\")\n",
        "@patch(\"rss_collector.proxy.fetch_feed_content_with_proxy\")\n",
        "@patch(\"rss_collector.feed_parser.parse_feed\")\n",
        "def test_process_feeds_simplified(\n",
        "    mock_parse_feed, mock_fetch_feed, mock_get_proxy_settings, mock_feed_data, mock_proxy_settings\n",
        "):\n",
        "    \"\"\"\n",
        "    Test process_feeds with mocked components to avoid external dependencies.\n",
        "    \"\"\"\n",
        "    print(\"\\nStarting test_process_feeds_simplified\")\n",
        "\n",
        "    # Mock proxy settings\n",
        "    print(\"Mocking proxy settings...\")\n",
        "    mock_get_proxy_settings.return_value = mock_proxy_settings\n",
        "\n",
        "    # Mock fetch_feed_content_with_proxy to return dummy content\n",
        "    print(\"Mocking fetch_feed_content_with_proxy...\")\n",
        "    mock_fetch_feed.return_value = \"Mock RSS Feed Content\"\n",
        "\n",
        "    # Mock parse_feed to return mock feed data\n",
        "    print(\"Mocking parse_feed...\")\n",
        "    mock_parse_feed.return_value = mock_feed_data\n",
        "\n",
        "    # Feed URLs for testing\n",
        "    feed_urls = [\"http://mock_feed_1.com/rss\", \"http://mock_feed_2.com/rss\"]\n",
        "\n",
        "    # Call process_feeds\n",
        "    from rss_collector.orchestration import process_feeds\n",
        "    process_feeds(feed_urls)\n",
        "\n",
        "    # Debugging mock calls\n",
        "    print(\"\\nDebugging Mock Calls:\")\n",
        "    print(f\"Mock Fetch Feed Calls: {mock_fetch_feed.call_count}\")\n",
        "    print(f\"Mock Fetch Feed Call Args: {mock_fetch_feed.call_args_list}\")\n",
        "    print(f\"Mock Parse Feed Calls: {mock_parse_feed.call_count}\")\n",
        "    print(f\"Mock Parse Feed Call Args: {mock_parse_feed.call_args_list}\")\n",
        "\n",
        "    # Assertions\n",
        "    # Assert proxy settings were called once\n",
        "    mock_get_proxy_settings.assert_called_once()\n",
        "\n",
        "    # Assert fetch_feed was called for each feed URL\n",
        "    assert mock_fetch_feed.call_count == len(feed_urls), (\n",
        "        f\"Expected {len(feed_urls)} calls to mock_fetch_feed, but got {mock_fetch_feed.call_count}.\"\n",
        "    )\n",
        "\n",
        "    # Assert parse_feed was called for each feed URL\n",
        "    assert mock_parse_feed.call_count == len(feed_urls), (\n",
        "        f\"Expected {len(feed_urls)} calls to mock_parse_feed, but got {mock_parse_feed.call_count}.\"\n",
        "    )\n",
        "\n",
        "    # Additional debugging for metadata file creation\n",
        "    print(\"\\nChecking metadata file creation...\")\n",
        "    metadata_files = os.listdir(\"rss_metadata\")\n",
        "    print(f\"Metadata Files Found: {metadata_files}\")\n",
        "    assert len(metadata_files) == 1, \"Expected one metadata file to be created.\"\n",
        "\n",
        "    metadata_file = os.path.join(\"rss_metadata\", metadata_files[0])\n",
        "    with open(metadata_file, \"r\") as f:\n",
        "        metadata_content = json.load(f)\n",
        "\n",
        "    print(f\"Metadata Content: {metadata_content}\")\n",
        "    assert \"timestamp\" in metadata_content, \"Metadata file missing 'timestamp'.\"\n",
        "    assert \"articles\" in metadata_content, \"Metadata file missing 'articles'.\"\n",
        "    assert len(metadata_content[\"articles\"]) == len(feed_urls), (\n",
        "        f\"Expected {len(feed_urls)} articles in metadata, but got {len(metadata_content['articles'])}.\"\n",
        "    )\n",
        "\n",
        "    print(\"\\nTest test_process_feeds_simplified completed successfully.\")\n"
      ]
    }
  ]
}