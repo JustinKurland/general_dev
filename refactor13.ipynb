{
  "nbformat": 4,
  "nbformat_minor": 0,
  "metadata": {
    "colab": {
      "provenance": []
    },
    "kernelspec": {
      "name": "python3",
      "display_name": "Python 3"
    },
    "language_info": {
      "name": "python"
    }
  },
  "cells": [
    {
      "cell_type": "code",
      "execution_count": null,
      "metadata": {
        "id": "6LE00vmkfVXN"
      },
      "outputs": [],
      "source": [
        "@patch(\"rss_collector.utils.get_proxy_settings\")\n",
        "def test_process_feeds_proxy_settings_only(mock_get_proxy_settings, mock_proxy_settings):\n",
        "    \"\"\"\n",
        "    Test only the get_proxy_settings functionality.\n",
        "    \"\"\"\n",
        "    # Mock proxy settings\n",
        "    mock_get_proxy_settings.return_value = mock_proxy_settings\n",
        "\n",
        "    # Call get_proxy_settings directly\n",
        "    proxy_settings = mock_get_proxy_settings()\n",
        "\n",
        "    # Assertions\n",
        "    assert proxy_settings == mock_proxy_settings\n",
        "    mock_get_proxy_settings.assert_called_once()\n"
      ]
    },
    {
      "cell_type": "code",
      "source": [
        "@patch(\"rss_collector.utils.get_proxy_settings\")\n",
        "@patch(\"rss_collector.proxy.fetch_feed_content_with_proxy\")\n",
        "def test_process_feeds_fetch_content_only(mock_fetch_feed, mock_get_proxy_settings, mock_proxy_settings):\n",
        "    \"\"\"\n",
        "    Test only the fetch_feed_content_with_proxy functionality.\n",
        "    \"\"\"\n",
        "    # Mock proxy settings\n",
        "    mock_get_proxy_settings.return_value = mock_proxy_settings\n",
        "\n",
        "    # Mock fetch_feed_content_with_proxy to return some content\n",
        "    mock_fetch_feed.return_value = \"Mock RSS Feed Content\"\n",
        "\n",
        "    # Call fetch_feed_content_with_proxy with a sample feed URL\n",
        "    feed_url = \"http://mock_feed_1.com/rss\"\n",
        "    proxy_settings = mock_get_proxy_settings()\n",
        "    feed_content = mock_fetch_feed(feed_url, **proxy_settings)\n",
        "\n",
        "    # Assertions\n",
        "    mock_get_proxy_settings.assert_called_once()\n",
        "    mock_fetch_feed.assert_called_once_with(feed_url, **proxy_settings)\n",
        "    assert feed_content == \"Mock RSS Feed Content\"\n"
      ],
      "metadata": {
        "id": "7Pk8E33-fXw-"
      },
      "execution_count": null,
      "outputs": []
    },
    {
      "cell_type": "code",
      "source": [
        "@patch(\"rss_collector.feed_parser.parse_feed\")\n",
        "def test_process_feeds_parse_feed_only(mock_parse_feed, mock_feed_data):\n",
        "    \"\"\"\n",
        "    Test only the parse_feed functionality.\n",
        "    \"\"\"\n",
        "    # Mock parse_feed to return the mock feed data\n",
        "    mock_parse_feed.return_value = mock_feed_data\n",
        "\n",
        "    # Simulate parsing feed content\n",
        "    feed_content = \"Mock RSS Feed Content\"\n",
        "    parsed_feed = mock_parse_feed(feed_content)\n",
        "\n",
        "    # Assertions\n",
        "    mock_parse_feed.assert_called_once_with(feed_content)\n",
        "    assert parsed_feed == mock_feed_data\n"
      ],
      "metadata": {
        "id": "sXL6azNofa34"
      },
      "execution_count": null,
      "outputs": []
    }
  ]
}