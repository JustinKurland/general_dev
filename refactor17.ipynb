{
  "nbformat": 4,
  "nbformat_minor": 0,
  "metadata": {
    "colab": {
      "provenance": []
    },
    "kernelspec": {
      "name": "python3",
      "display_name": "Python 3"
    },
    "language_info": {
      "name": "python"
    }
  },
  "cells": [
    {
      "cell_type": "code",
      "execution_count": null,
      "metadata": {
        "id": "jgnn3ekFpQCA"
      },
      "outputs": [],
      "source": [
        "for feed_url in feed_urls:\n",
        "    print(f\"Processing feed: {feed_url}\")  # Add debug statement\n",
        "    feed_content = fetch_feed_content_with_proxy(feed_url, app_proxy, username, password)\n",
        "    if feed_content:\n",
        "        print(f\"Fetched content for feed: {feed_url}\")  # Debug\n",
        "        try:\n",
        "            feed_data = parse_feed(feed_content)\n",
        "            print(f\"Parsed feed data: {feed_data}\")  # Debug: See feed_data\n",
        "            if not hasattr(feed_data, \"entries\") or not feed_data.entries:\n",
        "                print(f\"No entries found in feed: {feed_url}\")\n",
        "                continue  # Skip this feed if no entries are found\n",
        "            for entry in feed_data.entries:\n",
        "                print(f\"Processing entry: {entry}\")  # Debug each entry\n",
        "                metadata[\"articles\"].append({\n",
        "                    \"title\": getattr(entry, \"title\", \"No Title\"),\n",
        "                    \"url\": getattr(entry, \"link\", \"No URL\"),\n",
        "                    \"published_date\": getattr(entry, \"published\", \"No Date\")\n",
        "                })\n",
        "        except Exception as e:\n",
        "            print(f\"Error parsing feed {feed_url}: {e}\")\n",
        "    else:\n",
        "        print(f\"Failed to fetch feed: {feed_url}\")\n"
      ]
    }
  ]
}