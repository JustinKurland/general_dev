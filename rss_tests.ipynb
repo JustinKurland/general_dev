{
  "nbformat": 4,
  "nbformat_minor": 0,
  "metadata": {
    "colab": {
      "provenance": []
    },
    "kernelspec": {
      "name": "python3",
      "display_name": "Python 3"
    },
    "language_info": {
      "name": "python"
    }
  },
  "cells": [
    {
      "cell_type": "code",
      "execution_count": null,
      "metadata": {
        "id": "3ahbFd426peC"
      },
      "outputs": [],
      "source": [
        "#Test utils.py\n",
        "\n",
        "#File: tests/test_utils.py\n",
        "\n",
        "import os\n",
        "from rss_collector.utils import get_proxy_settings\n",
        "\n",
        "def test_get_proxy_settings(monkeypatch):\n",
        "    \"\"\"\n",
        "    Test the get_proxy_settings function with mock environment variables.\n",
        "    \"\"\"\n",
        "    # Mock environment variables\n",
        "    monkeypatch.setenv(\"app_proxy\", \"http://proxy.example.com:85\")\n",
        "    monkeypatch.setenv(\"username\", \"test_user\")\n",
        "    monkeypatch.setenv(\"password\", \"test_password\")\n",
        "\n",
        "    proxy_settings = get_proxy_settings()\n",
        "\n",
        "    assert proxy_settings[\"app_proxy\"] == \"http://proxy.example.com:85\"\n",
        "    assert proxy_settings[\"username\"] == \"test_user\"\n",
        "    assert proxy_settings[\"password\"] == \"test_password\"\n"
      ]
    },
    {
      "cell_type": "code",
      "source": [
        "#Test proxy.py\n",
        "\n",
        "#File: tests/test_proxy.py\n",
        "\n",
        "import subprocess\n",
        "from rss_collector.proxy import fetch_feed_content_with_proxy\n",
        "\n",
        "def test_fetch_feed_content_with_proxy(mocker):\n",
        "    \"\"\"\n",
        "    Test fetch_feed_content_with_proxy with a mock subprocess call.\n",
        "    \"\"\"\n",
        "    # Mock the subprocess call\n",
        "    mock_subprocess = mocker.patch(\"subprocess.check_output\", return_value=\"<rss>Mocked Response</rss>\")\n",
        "\n",
        "    feed_url = \"https://example.com/rss\"\n",
        "    app_proxy = \"http://proxy.example.com:85\"\n",
        "    username = \"test_user\"\n",
        "    password = \"test_password\"\n",
        "\n",
        "    response = fetch_feed_content_with_proxy(feed_url, app_proxy, username, password)\n",
        "\n",
        "    # Assertions\n",
        "    mock_subprocess.assert_called_once()\n",
        "    assert response == \"<rss>Mocked Response</rss>\"\n"
      ],
      "metadata": {
        "id": "DHKL8Bzk63jc"
      },
      "execution_count": null,
      "outputs": []
    },
    {
      "cell_type": "code",
      "source": [
        "#Test feed_parser.py\n",
        "\n",
        "#File: tests/test_feed_parser.py\n",
        "\n",
        "import feedparser\n",
        "from rss_collector.feed_parser import retry_with_backoff\n",
        "\n",
        "def test_retry_with_backoff(mocker):\n",
        "    \"\"\"\n",
        "    Test retry_with_backoff with mocked feedparser.\n",
        "    \"\"\"\n",
        "    # Mock the feedparser response\n",
        "    mock_feedparser = mocker.patch(\"rss_collector.feed_parser.feedparser.parse\", return_value={\"entries\": [{\"title\": \"Test\"}]})\n",
        "    mocker.patch(\"rss_collector.feed_parser.fetch_feed_content_with_proxy\", return_value=\"<rss>Mocked Response</rss>\")\n",
        "\n",
        "    feed_url = \"https://example.com/rss\"\n",
        "    parsed_feed = retry_with_backoff(feed_url)\n",
        "\n",
        "    assert parsed_feed[\"entries\"][0][\"title\"] == \"Test\"\n"
      ],
      "metadata": {
        "id": "cKDrtUJT6_fM"
      },
      "execution_count": null,
      "outputs": []
    },
    {
      "cell_type": "code",
      "source": [
        "#Test stix_converter.py\n",
        "\n",
        "#File: tests/test_stix_converter.py\n",
        "\n",
        "from rss_collector.stix_converter import convert_feed_to_stix\n",
        "\n",
        "def test_convert_feed_to_stix():\n",
        "    \"\"\"\n",
        "    Test the convert_feed_to_stix function with mock feed data.\n",
        "    \"\"\"\n",
        "    mock_feed = {\n",
        "        \"entries\": [\n",
        "            {\n",
        "                \"title\": \"Mock Title\",\n",
        "                \"summary\": \"Mock Summary\",\n",
        "                \"published\": \"Mon, 01 Jan 2024 10:00:00 +0000\",\n",
        "            }\n",
        "        ]\n",
        "    }\n",
        "\n",
        "    stix_json = convert_feed_to_stix(mock_feed)\n",
        "\n",
        "    assert '\"name\": \"Mock Title\"' in stix_json\n",
        "    assert '\"description\": \"Mock Summary\"' in stix_json\n"
      ],
      "metadata": {
        "id": "OGZUK49d7IQu"
      },
      "execution_count": null,
      "outputs": []
    },
    {
      "cell_type": "code",
      "source": [
        "#Test orchestration.py\n",
        "\n",
        "#File: tests/test_orchestration.py\n",
        "\n",
        "import os\n",
        "from rss_collector.orchestration import process_feeds\n",
        "\n",
        "def test_process_feeds(mocker):\n",
        "    \"\"\"\n",
        "    Test the process_feeds function with mocked dependencies.\n",
        "    \"\"\"\n",
        "    # Mock dependencies\n",
        "    mock_retry_with_backoff = mocker.patch(\"rss_collector.orchestration.retry_with_backoff\", return_value={\"entries\": [{\"title\": \"Test\"}]})\n",
        "    mock_convert_feed_to_stix = mocker.patch(\"rss_collector.orchestration.convert_feed_to_stix\", return_value=\"{}\")\n",
        "    mock_makedirs = mocker.patch(\"os.makedirs\")\n",
        "    mock_open = mocker.patch(\"builtins.open\", mocker.mock_open())\n",
        "\n",
        "    feed_urls = [\"https://example.com/rss\"]\n",
        "    process_feeds(feed_urls)\n",
        "\n",
        "    # Assertions\n",
        "    mock_retry_with_backoff.assert_called_once()\n",
        "    mock_convert_feed_to_stix.assert_called_once()\n",
        "    mock_makedirs.assert_called_once_with(\"stix_bundles\", exist_ok=True)\n",
        "    mock_open.assert_called_once_with(\"stix_bundles/stix_bundle_example.com.json\", \"w\")\n"
      ],
      "metadata": {
        "id": "XXne9ipB7SJv"
      },
      "execution_count": null,
      "outputs": []
    }
  ]
}