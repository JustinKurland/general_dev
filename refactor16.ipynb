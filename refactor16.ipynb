{
  "nbformat": 4,
  "nbformat_minor": 0,
  "metadata": {
    "colab": {
      "provenance": []
    },
    "kernelspec": {
      "name": "python3",
      "display_name": "Python 3"
    },
    "language_info": {
      "name": "python"
    }
  },
  "cells": [
    {
      "cell_type": "code",
      "execution_count": null,
      "metadata": {
        "id": "XIzFZfShoPLm"
      },
      "outputs": [],
      "source": [
        "@patch(\"rss_collector.feed_parser.parse_feed\")\n",
        "def test_process_feeds_entry_validation(mock_parse_feed, test_feed_urls, mock_proxy_settings):\n",
        "    \"\"\"\n",
        "    Test the process_feeds function to validate feed_data.entries handling.\n",
        "    \"\"\"\n",
        "    # Mock proxy settings\n",
        "    with patch(\"rss_collector.utils.get_proxy_settings\", return_value=mock_proxy_settings):\n",
        "        # Mock valid and invalid feed_data\n",
        "        valid_feed_data = MagicMock()\n",
        "        valid_feed_data.entries = [\n",
        "            MagicMock(title=\"Valid Article\", link=\"http://example.com/article\", published=\"2024-12-01T00:00:00Z\")\n",
        "        ]\n",
        "\n",
        "        invalid_feed_data = MagicMock()\n",
        "        invalid_feed_data.entries = []  # Simulate empty entries\n",
        "\n",
        "        mock_parse_feed.side_effect = [valid_feed_data, invalid_feed_data]  # First feed valid, second invalid\n",
        "\n",
        "        process_feeds(test_feed_urls)\n",
        "\n",
        "        # Verify that the valid feed is processed\n",
        "        mock_parse_feed.assert_called()\n",
        "        # Check that metadata for valid feed is saved\n",
        "        saved_files = os.listdir(\"rss_metadata\")\n",
        "        assert len(saved_files) == 1  # Only the valid feed should produce metadata\n",
        "        with open(os.path.join(\"rss_metadata\", saved_files[0]), \"r\") as f:\n",
        "            metadata = json.load(f)\n",
        "        assert len(metadata[\"articles\"]) == 1  # Only one article from valid feed\n"
      ]
    }
  ]
}