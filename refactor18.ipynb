{
  "nbformat": 4,
  "nbformat_minor": 0,
  "metadata": {
    "colab": {
      "provenance": []
    },
    "kernelspec": {
      "name": "python3",
      "display_name": "Python 3"
    },
    "language_info": {
      "name": "python"
    }
  },
  "cells": [
    {
      "cell_type": "code",
      "execution_count": null,
      "metadata": {
        "id": "yWntI0DWsPzW"
      },
      "outputs": [],
      "source": [
        "@patch(\"rss_collector.utils.get_proxy_settings\")\n",
        "@patch(\"rss_collector.proxy.fetch_feed_content_with_proxy\")\n",
        "def test_process_feeds_proxy_and_fetch(mock_fetch_feed, mock_get_proxy_settings, mock_proxy_settings):\n",
        "    \"\"\"\n",
        "    Test the combination of proxy settings and content fetching.\n",
        "    \"\"\"\n",
        "    # Mock proxy settings\n",
        "    mock_get_proxy_settings.return_value = mock_proxy_settings\n",
        "\n",
        "    # Mock content fetching\n",
        "    mock_fetch_feed.return_value = \"Mock RSS Feed Content\"\n",
        "\n",
        "    # Simulate calling process_feeds with mocked inputs\n",
        "    feed_urls = [\"http://mock_feed_1.com/rss\", \"http://mock_feed_2.com/rss\"]\n",
        "    process_feeds(feed_urls)\n",
        "\n",
        "    # Assertions\n",
        "    mock_get_proxy_settings.assert_called_once()\n",
        "    assert mock_fetch_feed.call_count == len(feed_urls)\n",
        "    for feed_url in feed_urls:\n",
        "        mock_fetch_feed.assert_any_call(feed_url, **mock_proxy_settings)\n"
      ]
    },
    {
      "cell_type": "code",
      "source": [
        "@patch(\"rss_collector.proxy.fetch_feed_content_with_proxy\")\n",
        "@patch(\"rss_collector.feed_parser.parse_feed\")\n",
        "def test_process_feeds_fetch_and_parse(mock_parse_feed, mock_fetch_feed, mock_feed_data, mock_proxy_settings):\n",
        "    \"\"\"\n",
        "    Test the combination of content fetching and parsing.\n",
        "    \"\"\"\n",
        "    # Mock content fetching\n",
        "    mock_fetch_feed.return_value = \"Mock RSS Feed Content\"\n",
        "\n",
        "    # Mock parsing\n",
        "    mock_parse_feed.return_value = mock_feed_data\n",
        "\n",
        "    # Simulate calling process_feeds with mocked inputs\n",
        "    feed_urls = [\"http://mock_feed_1.com/rss\", \"http://mock_feed_2.com/rss\"]\n",
        "    process_feeds(feed_urls)\n",
        "\n",
        "    # Assertions\n",
        "    assert mock_fetch_feed.call_count == len(feed_urls)\n",
        "    assert mock_parse_feed.call_count == len(feed_urls)\n",
        "    for feed_url in feed_urls:\n",
        "        mock_fetch_feed.assert_any_call(feed_url, **mock_proxy_settings)\n",
        "        mock_parse_feed.assert_any_call(\"Mock RSS Feed Content\")\n"
      ],
      "metadata": {
        "id": "ZVbHqWggsiBK"
      },
      "execution_count": null,
      "outputs": []
    },
    {
      "cell_type": "code",
      "source": [
        "@patch(\"rss_collector.feed_parser.parse_feed\")\n",
        "def test_process_feeds_metadata_generation(mock_parse_feed, mock_feed_data):\n",
        "    \"\"\"\n",
        "    Test metadata generation within process_feeds.\n",
        "    \"\"\"\n",
        "    # Mock parsing\n",
        "    mock_parse_feed.return_value = mock_feed_data\n",
        "\n",
        "    # Mock feed URLs\n",
        "    feed_urls = [\"http://mock_feed_1.com/rss\", \"http://mock_feed_2.com/rss\"]\n",
        "\n",
        "    # Call process_feeds\n",
        "    process_feeds(feed_urls)\n",
        "\n",
        "    # Verify metadata structure\n",
        "    output_dir = \"rss_metadata\"\n",
        "    saved_files = os.listdir(output_dir)\n",
        "    assert len(saved_files) == 1  # Ensure a single JSON file is saved\n",
        "\n",
        "    output_file = os.path.join(output_dir, saved_files[0])\n",
        "    with open(output_file, \"r\") as f:\n",
        "        metadata = json.load(f)\n",
        "\n",
        "    assert \"timestamp\" in metadata\n",
        "    assert \"articles\" in metadata\n",
        "    assert len(metadata[\"articles\"]) == len(mock_feed_data[\"entries\"])\n",
        "\n",
        "    # Cleanup\n",
        "    os.remove(output_file)\n"
      ],
      "metadata": {
        "id": "vGgZ2gl_sl6U"
      },
      "execution_count": null,
      "outputs": []
    },
    {
      "cell_type": "code",
      "source": [
        "@patch(\"rss_collector.utils.get_proxy_settings\")\n",
        "@patch(\"rss_collector.proxy.fetch_feed_content_with_proxy\")\n",
        "@patch(\"rss_collector.feed_parser.parse_feed\")\n",
        "def test_process_feeds(mock_parse_feed, mock_fetch_feed, mock_get_proxy_settings, mock_feed_data, mock_proxy_settings):\n",
        "    \"\"\"\n",
        "    Full integration test for process_feeds.\n",
        "    \"\"\"\n",
        "    # Mock proxy settings\n",
        "    mock_get_proxy_settings.return_value = mock_proxy_settings\n",
        "\n",
        "    # Mock fetching and parsing\n",
        "    mock_fetch_feed.return_value = \"Mock RSS Feed Content\"\n",
        "    mock_parse_feed.return_value = mock_feed_data\n",
        "\n",
        "    # Mock feed URLs\n",
        "    feed_urls = [\"http://mock_feed_1.com/rss\", \"http://mock_feed_2.com/rss\"]\n",
        "\n",
        "    # Call process_feeds\n",
        "    process_feeds(feed_urls)\n",
        "\n",
        "    # Assertions\n",
        "    mock_get_proxy_settings.assert_called_once()\n",
        "    assert mock_fetch_feed.call_count == len(feed_urls)\n",
        "    assert mock_parse_feed.call_count == len(feed_urls)\n"
      ],
      "metadata": {
        "id": "nK5kuhsAsutI"
      },
      "execution_count": null,
      "outputs": []
    }
  ]
}