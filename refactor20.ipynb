{
  "nbformat": 4,
  "nbformat_minor": 0,
  "metadata": {
    "colab": {
      "provenance": []
    },
    "kernelspec": {
      "name": "python3",
      "display_name": "Python 3"
    },
    "language_info": {
      "name": "python"
    }
  },
  "cells": [
    {
      "cell_type": "code",
      "execution_count": null,
      "metadata": {
        "id": "aIsKaPf3zB9P"
      },
      "outputs": [],
      "source": [
        "from unittest.mock import patch, MagicMock\n",
        "\n",
        "@patch(\"rss_collector.utils.get_proxy_settings\")\n",
        "@patch(\"rss_collector.proxy.fetch_feed_content_with_proxy\")\n",
        "@patch(\"rss_collector.feed_parser.parse_feed\")\n",
        "def test_process_feeds_simplified(mock_parse_feed, mock_fetch_feed, mock_get_proxy_settings, mock_feed_data, mock_proxy_settings):\n",
        "    \"\"\"\n",
        "    Test process_feeds with simplified mocks to avoid external dependencies.\n",
        "    \"\"\"\n",
        "    print(\"Starting test_process_feeds_simplified\")\n",
        "\n",
        "    # Mock proxy settings\n",
        "    mock_get_proxy_settings.return_value = mock_proxy_settings\n",
        "    print(\"Mocked proxy settings\")\n",
        "\n",
        "    # Mock fetch_feed_content_with_proxy to return dummy content\n",
        "    mock_fetch_feed.return_value = \"Dummy RSS Feed Content\"\n",
        "    print(\"Mocked fetch_feed_content_with_proxy\")\n",
        "\n",
        "    # Mock parse_feed to return the mocked feed data\n",
        "    mock_parse_feed.return_value = mock_feed_data\n",
        "    print(\"Mocked parse_feed\")\n",
        "\n",
        "    # Simulate process_feeds with static data\n",
        "    feed_urls = [\"http://mock_feed_1.com/rss\", \"http://mock_feed_2.com/rss\"]\n",
        "    process_feeds(feed_urls)\n",
        "\n",
        "    print(\"Finished process_feeds in simplified test\")\n",
        "\n",
        "    # Assertions\n",
        "    mock_get_proxy_settings.assert_called_once()\n",
        "    assert mock_fetch_feed.call_count == len(feed_urls)\n",
        "    assert mock_parse_feed.call_count == len(feed_urls)\n",
        "\n",
        "    print(\"Simplified test completed successfully\")\n"
      ]
    }
  ]
}