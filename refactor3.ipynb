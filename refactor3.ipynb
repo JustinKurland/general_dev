{
  "nbformat": 4,
  "nbformat_minor": 0,
  "metadata": {
    "colab": {
      "provenance": []
    },
    "kernelspec": {
      "name": "python3",
      "display_name": "Python 3"
    },
    "language_info": {
      "name": "python"
    }
  },
  "cells": [
    {
      "cell_type": "code",
      "execution_count": null,
      "metadata": {
        "id": "xPiBntJNtXFj"
      },
      "outputs": [],
      "source": [
        "def process_feeds(feed_urls):\n",
        "    \"\"\"\n",
        "    Process multiple RSS feeds and save metadata for each feed.\n",
        "\n",
        "    Args:\n",
        "        feed_urls (list): List of RSS feed URLs.\n",
        "\n",
        "    Returns:\n",
        "        None\n",
        "    \"\"\"\n",
        "    proxy_settings = get_proxy_settings()\n",
        "    app_proxy = proxy_settings[\"app_proxy\"]\n",
        "    username = proxy_settings[\"username\"]\n",
        "    password = proxy_settings[\"password\"]\n",
        "    output_dir = \"rss_metadata\"\n",
        "    os.makedirs(output_dir, exist_ok=True)\n",
        "\n",
        "    for feed_url in feed_urls:\n",
        "        print(f\"Processing feed: {feed_url}\")\n",
        "        feed_content = fetch_feed_content_with_proxy(feed_url, app_proxy, username, password)\n",
        "        if feed_content:\n",
        "            try:\n",
        "                feed_data = parse_feed(feed_content)\n",
        "                metadata = []\n",
        "                for entry in feed_data.entries:\n",
        "                    metadata.append({\n",
        "                        \"title\": getattr(entry, \"title\", \"No Title\"),\n",
        "                        \"url\": getattr(entry, \"link\", \"No URL\"),\n",
        "                        \"published_date\": getattr(entry, \"published\", \"No Date\")\n",
        "                    })\n",
        "\n",
        "                output_file = os.path.join(output_dir, f\"{feed_url.split('/')[-1]}.json\")\n",
        "                with open(output_file, \"w\") as f:\n",
        "                    json.dump(metadata, f, indent=4)\n",
        "                print(f\"Metadata saved to {output_file}\")\n",
        "            except Exception as e:\n",
        "                print(f\"Error parsing feed {feed_url}: {e}\")\n",
        "        else:\n",
        "            print(f\"Failed to fetch feed: {feed_url}\")\n"
      ]
    },
    {
      "cell_type": "code",
      "source": [
        "def process_feeds(feed_urls):\n",
        "    \"\"\"\n",
        "    Process multiple RSS feeds and save metadata for each feed.\n",
        "\n",
        "    Args:\n",
        "        feed_urls (list): List of RSS feed URLs.\n",
        "\n",
        "    Returns:\n",
        "        None\n",
        "    \"\"\"\n",
        "    proxy_settings = get_proxy_settings()\n",
        "    app_proxy = proxy_settings[\"app_proxy\"]\n",
        "    username = proxy_settings[\"username\"]\n",
        "    password = proxy_settings[\"password\"]\n",
        "    output_dir = \"rss_metadata\"\n",
        "    os.makedirs(output_dir, exist_ok=True)\n",
        "\n",
        "    for feed_url in feed_urls:\n",
        "        print(f\"Processing feed: {feed_url}\")\n",
        "        feed_content = fetch_feed_content_with_proxy(feed_url, app_proxy, username, password)\n",
        "        if feed_content:\n",
        "            try:\n",
        "                feed_data = parse_feed(feed_content)\n",
        "                metadata = []\n",
        "                for entry in feed_data.entries:\n",
        "                    metadata.append({\n",
        "                        \"title\": getattr(entry, \"title\", \"No Title\"),\n",
        "                        \"url\": getattr(entry, \"link\", \"No URL\"),\n",
        "                        \"published_date\": getattr(entry, \"published\", \"No Date\")\n",
        "                    })\n",
        "\n",
        "                output_file = os.path.join(output_dir, f\"{feed_url.split('/')[-1]}.json\")\n",
        "                with open(output_file, \"w\") as f:\n",
        "                    json.dump(metadata, f, indent=4)\n",
        "                print(f\"Metadata saved to {output_file}\")\n",
        "            except Exception as e:\n",
        "                print(f\"Error parsing feed {feed_url}: {e}\")\n",
        "        else:\n",
        "            print(f\"Failed to fetch feed: {feed_url}\")\n"
      ],
      "metadata": {
        "id": "G_GIxV71w2Nc"
      },
      "execution_count": null,
      "outputs": []
    }
  ]
}