{
  "nbformat": 4,
  "nbformat_minor": 0,
  "metadata": {
    "colab": {
      "provenance": []
    },
    "kernelspec": {
      "name": "python3",
      "display_name": "Python 3"
    },
    "language_info": {
      "name": "python"
    }
  },
  "cells": [
    {
      "cell_type": "code",
      "execution_count": null,
      "metadata": {
        "id": "tjvz0uqJDz_1"
      },
      "outputs": [],
      "source": [
        "@patch(\"rss_collector.orchestration.get_proxy_settings\")\n",
        "def test_proxy_settings(mock_get_proxy_settings):\n",
        "    mock_get_proxy_settings.return_value = {\"app_proxy\": \"http://mock_proxy.com:85\", \"username\": \"user\", \"password\": \"password\"}\n",
        "    proxy = get_proxy_settings()\n",
        "    assert proxy[\"username\"] == \"user\"\n",
        "\n",
        "\n",
        "@patch(\"rss_collector.orchestration.fetch_feed_content_with_proxy\")\n",
        "def test_fetch_feed_content(mock_fetch_feed):\n",
        "    mock_fetch_feed.return_value = \"Mock Content\"\n",
        "    content = fetch_feed_content_with_proxy(\"http://mock_feed_1.com/rss\", app_proxy=\"proxy\", username=\"user\", password=\"pass\")\n",
        "    assert content == \"Mock Content\"\n",
        "\n",
        "\n",
        "@patch(\"rss_collector.orchestration.parse_feed\")\n",
        "def test_parse_feed(mock_parse_feed):\n",
        "    mock_parse_feed.return_value = {\"entries\": [{\"title\": \"Article 1\", \"link\": \"url\", \"published\": \"date\"}]}\n",
        "    data = parse_feed(\"Mock Content\")\n",
        "    assert data[\"entries\"][0][\"title\"] == \"Article 1\"\n"
      ]
    }
  ]
}