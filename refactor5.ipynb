{
  "nbformat": 4,
  "nbformat_minor": 0,
  "metadata": {
    "colab": {
      "provenance": []
    },
    "kernelspec": {
      "name": "python3",
      "display_name": "Python 3"
    },
    "language_info": {
      "name": "python"
    }
  },
  "cells": [
    {
      "cell_type": "code",
      "execution_count": null,
      "metadata": {
        "id": "ZGUACCDkc9bg"
      },
      "outputs": [],
      "source": [
        "from datetime import datetime\n",
        "import json\n",
        "\n",
        "def process_feeds(feed_urls):\n",
        "    \"\"\"\n",
        "    Process RSS feeds and fetch their content using proxy settings.\n",
        "\n",
        "    Args:\n",
        "        feed_urls (list): List of RSS feed URLs.\n",
        "\n",
        "    Returns:\n",
        "        None\n",
        "    \"\"\"\n",
        "    proxy_settings = get_proxy_settings()\n",
        "    app_proxy = proxy_settings[\"app_proxy\"]\n",
        "    username = proxy_settings[\"username\"]\n",
        "    password = proxy_settings[\"password\"]\n",
        "\n",
        "    metadata = []  # To store metadata for all feeds\n",
        "\n",
        "    for feed_url in feed_urls:\n",
        "        print(f\"Processing feed: {feed_url}\")\n",
        "        feed_content = fetch_feed_content_with_proxy(feed_url, app_proxy, username, password)\n",
        "        if feed_content:\n",
        "            print(f\"Successfully fetched feed: {feed_url}\")\n",
        "            # Example of metadata extraction\n",
        "            metadata.append({\n",
        "                \"url\": feed_url,\n",
        "                \"title\": \"Example Title\",  # Replace with actual title extraction logic\n",
        "                \"timestamp\": datetime.utcnow().strftime(\"%Y-%m-%dT%H:%M:%SZ\"),\n",
        "                \"content\": feed_content[:100]  # Store a snippet of the content for now\n",
        "            })\n",
        "        else:\n",
        "            print(f\"Failed to fetch feed: {feed_url}\")\n",
        "\n",
        "    # Save metadata to a JSON file\n",
        "    with open(\"feed_metadata.json\", \"w\") as f:\n",
        "        json.dump(metadata, f, indent=4)\n",
        "\n",
        "    print(\"Metadata saved to feed_metadata.json\")\n"
      ]
    }
  ]
}