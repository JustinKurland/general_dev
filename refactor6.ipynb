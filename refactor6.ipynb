{
  "nbformat": 4,
  "nbformat_minor": 0,
  "metadata": {
    "colab": {
      "provenance": []
    },
    "kernelspec": {
      "name": "python3",
      "display_name": "Python 3"
    },
    "language_info": {
      "name": "python"
    }
  },
  "cells": [
    {
      "cell_type": "code",
      "execution_count": null,
      "metadata": {
        "id": "OzpYEwTJhzLb"
      },
      "outputs": [],
      "source": [
        "import os\n",
        "from datetime import datetime\n",
        "from .utils import get_proxy_settings\n",
        "from .proxy import fetch_feed_content_with_proxy\n",
        "from .feed_parser import retry_with_backoff, parse_feed\n",
        "\n",
        "def process_feeds(feed_urls):\n",
        "    \"\"\"\n",
        "    Process multiple RSS feeds and save extracted metadata for each feed.\n",
        "\n",
        "    Args:\n",
        "        feed_urls (list): List of RSS feed URLs.\n",
        "\n",
        "    Returns:\n",
        "        None\n",
        "    \"\"\"\n",
        "    # Get proxy settings\n",
        "    proxy_settings = get_proxy_settings()\n",
        "    app_proxy = proxy_settings[\"app_proxy\"]\n",
        "    username = proxy_settings[\"username\"]\n",
        "    password = proxy_settings[\"password\"]\n",
        "\n",
        "    # Prepare directory for saving metadata\n",
        "    timestamp = datetime.utcnow().strftime(\"%Y-%m-%dT%H:%M:%SZ\")\n",
        "    output_dir = \"feed_metadata\"\n",
        "    os.makedirs(output_dir, exist_ok=True)\n",
        "\n",
        "    for feed_url in feed_urls:\n",
        "        print(f\"Processing feed: {feed_url}\")\n",
        "        try:\n",
        "            # Fetch the feed content\n",
        "            feed_content = retry_with_backoff(feed_url, app_proxy, username, password)\n",
        "            if feed_content:\n",
        "                # Parse the feed\n",
        "                parsed_feed = parse_feed(feed_content)\n",
        "                if parsed_feed:\n",
        "                    # Prepare metadata to save\n",
        "                    domain = feed_url.split(\"/\")[2]\n",
        "                    filename = f\"metadata_{domain}_{timestamp}.json\"\n",
        "                    filepath = os.path.join(output_dir, filename)\n",
        "\n",
        "                    # Save metadata\n",
        "                    with open(filepath, \"w\", encoding=\"utf-8\") as f:\n",
        "                        f.write(parsed_feed)  # Ensure parse_feed returns serialized JSON\n",
        "                    print(f\"Metadata saved to: {filepath}\")\n",
        "                else:\n",
        "                    print(f\"Failed to parse feed: {feed_url}\")\n",
        "            else:\n",
        "                print(f\"Failed to fetch feed: {feed_url}\")\n",
        "        except Exception as e:\n",
        "            print(f\"Error processing feed {feed_url}: {e}\")\n"
      ]
    }
  ]
}