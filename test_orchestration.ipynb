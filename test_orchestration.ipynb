{
  "nbformat": 4,
  "nbformat_minor": 0,
  "metadata": {
    "colab": {
      "provenance": []
    },
    "kernelspec": {
      "name": "python3",
      "display_name": "Python 3"
    },
    "language_info": {
      "name": "python"
    }
  },
  "cells": [
    {
      "cell_type": "code",
      "execution_count": null,
      "metadata": {
        "id": "FVHGUA5a69eA"
      },
      "outputs": [],
      "source": [
        "import os\n",
        "from unittest.mock import patch, mock_open\n",
        "from rss_collector.orchestration import process_feeds\n",
        "\n",
        "@patch(\"rss_collector.orchestration.retry_with_backoff\", return_value={\"entries\": [{\"title\": \"Test\"}]})\n",
        "@patch(\"rss_collector.orchestration.convert_feed_to_stix\", return_value=\"{}\")\n",
        "@patch(\"os.makedirs\")\n",
        "@patch(\"builtins.open\", new_callable=mock_open)\n",
        "def test_process_feeds(mock_open, mock_makedirs, mock_convert_feed_to_stix, mock_retry_with_backoff):\n",
        "    \"\"\"\n",
        "    Test the process_feeds function with mocked dependencies.\n",
        "    \"\"\"\n",
        "    feed_urls = [\"https://example.com/rss\"]\n",
        "    process_feeds(feed_urls)\n",
        "\n",
        "    # Assert retry_with_backoff was called once\n",
        "    mock_retry_with_backoff.assert_called_once()\n",
        "    # Assert convert_feed_to_stix was called once\n",
        "    mock_convert_feed_to_stix.assert_called_once()\n",
        "    # Assert makedirs was called once with the correct directory\n",
        "    mock_makedirs.assert_called_once_with(\"stix_bundles\", exist_ok=True)\n",
        "    # Assert open was called once with a filename matching the expected pattern\n",
        "    mock_open.assert_called_once()\n",
        "    # Extract the filename used in open\n",
        "    args, _ = mock_open.call_args\n",
        "    assert args[0].startswith(\"stix_bundles/stix_bundle_example.com_\")\n",
        "    assert args[0].endswith(\".json\")\n"
      ]
    }
  ]
}