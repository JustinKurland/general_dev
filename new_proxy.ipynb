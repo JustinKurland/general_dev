{
  "nbformat": 4,
  "nbformat_minor": 0,
  "metadata": {
    "colab": {
      "provenance": []
    },
    "kernelspec": {
      "name": "python3",
      "display_name": "Python 3"
    },
    "language_info": {
      "name": "python"
    }
  },
  "cells": [
    {
      "cell_type": "code",
      "execution_count": null,
      "metadata": {
        "id": "g86mUHLGDXxW"
      },
      "outputs": [],
      "source": [
        "import pytest\n",
        "from unittest.mock import patch\n",
        "\n",
        "def test_fetch_feed_content_with_proxy_debug(mocker):\n",
        "    \"\"\"\n",
        "    Test fetch_feed_content_with_proxy with a mock subprocess call and mocked proxy settings.\n",
        "    \"\"\"\n",
        "\n",
        "    # Mocked proxy settings\n",
        "    mock_proxy_settings = {\n",
        "        \"app_proxy\": \"http://mock_proxy.com:85\",\n",
        "        \"username\": \"mock_user\",\n",
        "        \"password\": \"mock_password\",\n",
        "    }\n",
        "\n",
        "    # Debugging to ensure mock is applied\n",
        "    print(\"\\n--- Debugging Mock Application ---\")\n",
        "    print(\"Mocked proxy settings:\", mock_proxy_settings)\n",
        "\n",
        "    # Apply the mock for get_proxy_settings\n",
        "    mocker.patch(\"rss_collector.utils.get_proxy_settings\", return_value=mock_proxy_settings)\n",
        "\n",
        "    # Debugging: Confirm that the mock is applied correctly\n",
        "    from rss_collector.utils import get_proxy_settings\n",
        "    assert get_proxy_settings() == mock_proxy_settings, \"Mock for get_proxy_settings failed to apply\"\n",
        "\n",
        "    # Mock subprocess call\n",
        "    mock_subprocess = mocker.patch(\"subprocess.check_output\", return_value=\"Mocked Response\")\n",
        "\n",
        "    # Test inputs\n",
        "    feed_url = \"https://example.com/rss\"\n",
        "\n",
        "    # Call the function\n",
        "    from rss_collector.proxy import fetch_feed_content_with_proxy\n",
        "    response = fetch_feed_content_with_proxy(feed_url)\n",
        "\n",
        "    # Debugging: Expected command construction\n",
        "    expected_command = (\n",
        "        f\"echo '{mock_proxy_settings['password']}' | \"\n",
        "        f\"curl -s -x '{mock_proxy_settings['app_proxy']}' \"\n",
        "        f\"-U '{mock_proxy_settings['username']}' \"\n",
        "        f\"'{feed_url}' --proxy-ntlm\"\n",
        "    )\n",
        "    print(\"\\n--- Debugging Expected Command ---\")\n",
        "    print(\"Expected Command:\", expected_command)\n",
        "\n",
        "    # Debugging: Ensure the mock subprocess is called correctly\n",
        "    print(\"\\n--- Debugging Mock Subprocess Call ---\")\n",
        "    try:\n",
        "        mock_subprocess.assert_called_once_with(expected_command, shell=True, text=True)\n",
        "        print(\"Mock subprocess called correctly.\")\n",
        "    except AssertionError as e:\n",
        "        print(\"Error:\", e)\n",
        "        raise\n",
        "\n",
        "    # Final assertion\n",
        "    assert response == \"Mocked Response\", \"Function did not return the expected mocked response\"\n",
        "\n"
      ]
    }
  ]
}