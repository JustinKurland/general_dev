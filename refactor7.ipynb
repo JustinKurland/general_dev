{
  "nbformat": 4,
  "nbformat_minor": 0,
  "metadata": {
    "colab": {
      "provenance": []
    },
    "kernelspec": {
      "name": "python3",
      "display_name": "Python 3"
    },
    "language_info": {
      "name": "python"
    }
  },
  "cells": [
    {
      "cell_type": "code",
      "execution_count": null,
      "metadata": {
        "id": "Jy9DjFxTvFAJ"
      },
      "outputs": [],
      "source": [
        "import json\n",
        "import os\n",
        "from datetime import datetime\n",
        "from utils import get_proxy_settings\n",
        "from proxy import fetch_feed_content_with_proxy\n",
        "from feed_parser import retry_with_backoff, parse_feed\n",
        "\n",
        "\n",
        "def process_feeds(feed_urls):\n",
        "    \"\"\"\n",
        "    Process multiple RSS feeds and save metadata to a single JSON file.\n",
        "\n",
        "    Args:\n",
        "        feed_urls (list): List of RSS feed URLs.\n",
        "    \"\"\"\n",
        "    # Get proxy settings\n",
        "    proxy_settings = get_proxy_settings()\n",
        "    app_proxy = proxy_settings[\"app_proxy\"]\n",
        "    username = proxy_settings[\"username\"]\n",
        "    password = proxy_settings[\"password\"]\n",
        "\n",
        "    # Define output directory and JSON filename based on the current timestamp\n",
        "    output_dir = \"rss_metadata\"\n",
        "    timestamp = datetime.utcnow().strftime(\"%Y-%m-%dT%H:%M:%SZ\")\n",
        "    output_filepath = os.path.join(output_dir, f\"{timestamp}.json\")\n",
        "    os.makedirs(output_dir, exist_ok=True)\n",
        "\n",
        "    # Load previous metadata (if any) to avoid reprocessing\n",
        "    previous_data = {}\n",
        "    previous_filepath = max(\n",
        "        (os.path.join(output_dir, f) for f in os.listdir(output_dir) if f.endswith(\".json\")),\n",
        "        default=None,\n",
        "        key=os.path.getctime,\n",
        "    )\n",
        "    if previous_filepath:\n",
        "        with open(previous_filepath, \"r\") as f:\n",
        "            previous_data = json.load(f)\n",
        "\n",
        "    # Initialize a container for the current run's metadata\n",
        "    all_metadata = []\n",
        "\n",
        "    # Process each feed\n",
        "    for feed_url in feed_urls:\n",
        "        print(f\"Processing feed: {feed_url}\")\n",
        "        feed_content = fetch_feed_content_with_proxy(feed_url, app_proxy, username, password)\n",
        "        if feed_content:\n",
        "            try:\n",
        "                articles = parse_feed(feed_content)\n",
        "                for article in articles:\n",
        "                    # Skip if the article's URL is already in previous data\n",
        "                    if any(metadata[\"url\"] == article[\"url\"] for metadata in previous_data.get(\"articles\", [])):\n",
        "                        print(f\"Skipping already processed article: {article['url']}\")\n",
        "                        continue\n",
        "\n",
        "                    # Add article metadata to the current run\n",
        "                    all_metadata.append(article)\n",
        "            except Exception as e:\n",
        "                print(f\"Error parsing feed {feed_url}: {e}\")\n",
        "        else:\n",
        "            print(f\"Failed to fetch feed: {feed_url}\")\n",
        "\n",
        "    # Save all metadata from this run to a single JSON file\n",
        "    if all_metadata:\n",
        "        with open(output_filepath, \"w\") as f:\n",
        "            json.dump({\"timestamp\": timestamp, \"articles\": all_metadata}, f, indent=4)\n",
        "        print(f\"Metadata saved to {output_filepath}\")\n",
        "    else:\n",
        "        print(\"No new metadata to save.\")\n"
      ]
    }
  ]
}