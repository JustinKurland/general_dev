{
  "nbformat": 4,
  "nbformat_minor": 0,
  "metadata": {
    "colab": {
      "provenance": []
    },
    "kernelspec": {
      "name": "python3",
      "display_name": "Python 3"
    },
    "language_info": {
      "name": "python"
    }
  },
  "cells": [
    {
      "cell_type": "code",
      "execution_count": null,
      "metadata": {
        "id": "Dqm6GrvU8UGU"
      },
      "outputs": [],
      "source": [
        "import os\n",
        "from unittest.mock import patch, mock_open\n",
        "from rss_collector.orchestration import process_feeds\n",
        "\n",
        "def test_process_feeds():\n",
        "    \"\"\"\n",
        "    Test the process_feeds function with mocked dependencies.\n",
        "    \"\"\"\n",
        "    # Mock dependencies\n",
        "    mock_retry_with_backoff = patch(\n",
        "        \"rss_collector.orchestration.retry_with_backoff\",\n",
        "        return_value={\"entries\": [{\"title\": \"Test\"}]},\n",
        "    ).start()\n",
        "\n",
        "    mock_convert_feed_to_stix = patch(\n",
        "        \"rss_collector.orchestration.convert_feed_to_stix\",\n",
        "        return_value=\"{}\",\n",
        "    ).start()\n",
        "\n",
        "    mock_makedirs = patch(\"os.makedirs\").start()\n",
        "\n",
        "    mock_file = mock_open()\n",
        "    with patch(\"builtins.open\", mock_file):\n",
        "        # Run the function\n",
        "        feed_urls = [\"https://example.com/rss\"]\n",
        "        process_feeds(feed_urls)\n",
        "\n",
        "        # Assertions\n",
        "        mock_retry_with_backoff.assert_called_once()\n",
        "        mock_convert_feed_to_stix.assert_called_once()\n",
        "        mock_makedirs.assert_called_once_with(\"stix_bundles\", exist_ok=True)\n",
        "\n",
        "        # Assert open is called correctly\n",
        "        mock_file.assert_any_call(\"stix_bundles/stix_bundle_example.com.json\", \"w\")\n",
        "        mock_file().write.assert_called_once_with(\"{}\")\n",
        "\n",
        "    # Stop mocks\n",
        "    patch.stopall()\n"
      ]
    }
  ]
}