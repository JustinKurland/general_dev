{
  "nbformat": 4,
  "nbformat_minor": 0,
  "metadata": {
    "colab": {
      "provenance": []
    },
    "kernelspec": {
      "name": "python3",
      "display_name": "Python 3"
    },
    "language_info": {
      "name": "python"
    }
  },
  "cells": [
    {
      "cell_type": "code",
      "source": [
        "import pytest\n",
        "from unittest.mock import patch, MagicMock\n",
        "from rss_collector.feed_parser import retry_with_backoff\n",
        "\n",
        "def test_retry_with_backoff_success():\n",
        "    \"\"\"\n",
        "    Test that retry_with_backoff succeeds after a few failed attempts.\n",
        "    \"\"\"\n",
        "    test_url = \"https://example.com/rss\"\n",
        "\n",
        "    # Mock `fetch_feed_content_with_proxy` to fail twice before succeeding\n",
        "    with patch(\"rss_collector.feed_parser.fetch_feed_content_with_proxy\") as mock_fetch:\n",
        "        # First two attempts fail, third succeeds\n",
        "        mock_fetch.side_effect = [None, None, \"<rss>Valid Feed</rss>\"]\n",
        "\n",
        "        # Mock feedparser.parse to return a valid feed\n",
        "        with patch(\"rss_collector.feed_parser.feedparser.parse\") as mock_parse:\n",
        "            mock_parse.return_value = MagicMock(feed={\"title\": \"Test Feed\"}, entries=[])\n",
        "\n",
        "            parsed_feed = retry_with_backoff(test_url, retries=3)\n",
        "\n",
        "            # Assert that the fetch function was called 3 times\n",
        "            assert mock_fetch.call_count == 3\n",
        "            assert parsed_feed is not None\n",
        "            assert parsed_feed.feed[\"title\"] == \"Test Feed\"\n",
        "\n",
        "def test_retry_with_backoff_failure():\n",
        "    \"\"\"\n",
        "    Test that retry_with_backoff returns None after all retries fail.\n",
        "    \"\"\"\n",
        "    test_url = \"https://example.com/rss\"\n",
        "\n",
        "    # Mock `fetch_feed_content_with_proxy` to always fail\n",
        "    with patch(\"rss_collector.feed_parser.fetch_feed_content_with_proxy\") as mock_fetch:\n",
        "        mock_fetch.return_value = None\n",
        "\n",
        "        parsed_feed = retry_with_backoff(test_url, retries=3)\n",
        "\n",
        "        # Assert that the fetch function was called 3 times\n",
        "        assert mock_fetch.call_count == 3\n",
        "        assert parsed_feed is None\n"
      ],
      "metadata": {
        "id": "kYvBCSmHeJ9X"
      },
      "execution_count": null,
      "outputs": []
    },
    {
      "cell_type": "code",
      "source": [
        "# File: tests/test_feed_parser.py\n",
        "\n",
        "import pytest\n",
        "from rss_collector.feed_parser import retry_with_backoff\n",
        "from rss_collector.proxy import fetch_feed_content_with_proxy\n",
        "\n",
        "def test_retry_with_backoff(mocker):\n",
        "    \"\"\"\n",
        "    Test the retry_with_backoff function with mocked fetch_feed_content_with_proxy.\n",
        "    \"\"\"\n",
        "    # Mock the fetch_feed_content_with_proxy function to simulate transient failures\n",
        "    mock_fetch = mocker.patch(\n",
        "        \"rss_collector.proxy.fetch_feed_content_with_proxy\",\n",
        "        side_effect=[None, None, \"<rss>Mocked RSS Content</rss>\"]\n",
        "    )\n",
        "\n",
        "    # Mock the feedparser.parse function to simulate a valid parsed feed\n",
        "    mock_feedparser = mocker.patch(\n",
        "        \"rss_collector.feed_parser.feedparser.parse\",\n",
        "        return_value={\"feed\": {\"title\": \"Mock Feed\"}, \"entries\": [{\"title\": \"Mock Entry\"}]}\n",
        "    )\n",
        "\n",
        "    # Test the function\n",
        "    test_url = \"https://example.com/rss\"\n",
        "    parsed_feed = retry_with_backoff(test_url, retries=3, delay=1)\n",
        "\n",
        "    # Assertions\n",
        "    assert parsed_feed is not None\n",
        "    assert parsed_feed[\"feed\"][\"title\"] == \"Mock Feed\"\n",
        "    assert len(parsed_feed[\"entries\"]) == 1\n",
        "    assert parsed_feed[\"entries\"][0][\"title\"] == \"Mock Entry\"\n",
        "\n",
        "    # Ensure the fetch function was called three times (2 failures + 1 success)\n",
        "    assert mock_fetch.call_count == 3\n"
      ],
      "metadata": {
        "id": "EhW_9fJEeMe-"
      },
      "execution_count": null,
      "outputs": []
    }
  ]
}