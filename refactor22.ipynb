{
  "nbformat": 4,
  "nbformat_minor": 0,
  "metadata": {
    "colab": {
      "provenance": []
    },
    "kernelspec": {
      "name": "python3",
      "display_name": "Python 3"
    },
    "language_info": {
      "name": "python"
    }
  },
  "cells": [
    {
      "cell_type": "code",
      "execution_count": null,
      "metadata": {
        "id": "7NA7EZUtvJr8"
      },
      "outputs": [],
      "source": [
        "@patch(\"rss_collector.orchestration.get_proxy_settings\")\n",
        "@patch(\"rss_collector.orchestration.fetch_feed_content_with_proxy\")\n",
        "@patch(\"rss_collector.feed_parser.parse_feed\")\n",
        "def test_process_feeds_simplified(mock_parse_feed, mock_fetch_feed, mock_get_proxy_settings, mock_feed_data, mock_proxy_settings):\n",
        "    \"\"\"\n",
        "    Test process_feeds with mocked components to avoid external dependencies.\n",
        "    \"\"\"\n",
        "    print(\"Starting test_process_feeds_simplified\")\n",
        "    # Mock proxy settings\n",
        "    mock_get_proxy_settings.return_value = mock_proxy_settings\n",
        "\n",
        "    # Mock fetch_feed_content_with_proxy to return dummy content\n",
        "    mock_fetch_feed.return_value = \"\"\"\n",
        "    <rss version=\"2.0\">\n",
        "        <channel>\n",
        "            <title>Mock Feed</title>\n",
        "            <item>\n",
        "                <title>Article 1</title>\n",
        "                <link>http://example.com/article1</link>\n",
        "                <pubDate>Mon, 30 Dec 2024 12:00:00 +0000</pubDate>\n",
        "            </item>\n",
        "            <item>\n",
        "                <title>Article 2</title>\n",
        "                <link>http://example.com/article2</link>\n",
        "                <pubDate>Mon, 30 Dec 2024 13:00:00 +0000</pubDate>\n",
        "            </item>\n",
        "        </channel>\n",
        "    </rss>\n",
        "    \"\"\"\n",
        "\n",
        "    # Mock parse_feed to return mock feed data\n",
        "    mock_parse_feed.return_value = mock_feed_data\n",
        "\n",
        "    # Feed URLs for testing\n",
        "    feed_urls = [\"http://mock_feed_1.com/rss\", \"http://mock_feed_2.com/rss\"]\n",
        "\n",
        "    # Call process_feeds\n",
        "    from rss_collector.orchestration import process_feeds\n",
        "    process_feeds(feed_urls)\n",
        "\n",
        "    # Debugging Mock Calls\n",
        "    print(f\"mock_fetch_feed.call_args_list: {mock_fetch_feed.call_args_list}\")\n",
        "    print(f\"mock_parse_feed.call_args_list: {mock_parse_feed.call_args_list}\")\n",
        "\n",
        "    # Assertions\n",
        "    mock_get_proxy_settings.assert_called_once()\n",
        "    assert mock_fetch_feed.call_count == len(feed_urls), f\"Expected {len(feed_urls)} calls to mock_fetch_feed, but got {mock_fetch_feed.call_count}.\"\n",
        "    assert mock_parse_feed.call_count == len(feed_urls), f\"Expected {len(feed_urls)} calls to mock_parse_feed, but got {mock_parse_feed.call_count}.\"\n",
        "\n",
        "    print(\"Finished test_process_feeds_simplified\")\n"
      ]
    }
  ]
}