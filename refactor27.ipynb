{
  "nbformat": 4,
  "nbformat_minor": 0,
  "metadata": {
    "colab": {
      "provenance": []
    },
    "kernelspec": {
      "name": "python3",
      "display_name": "Python 3"
    },
    "language_info": {
      "name": "python"
    }
  },
  "cells": [
    {
      "cell_type": "code",
      "execution_count": null,
      "metadata": {
        "id": "vtmyMmXHMPKz"
      },
      "outputs": [],
      "source": [
        "import shutil\n",
        "\n",
        "@patch(\"rss_collector.orchestration.get_proxy_settings\")\n",
        "@patch(\"rss_collector.orchestration.fetch_feed_content_with_proxy\")\n",
        "@patch(\"rss_collector.orchestration.parse_feed\")\n",
        "def test_process_feeds(mock_parse_feed, mock_fetch_feed, mock_get_proxy_settings, mock_feed_data, mock_proxy_settings, test_feed_urls):\n",
        "    \"\"\"\n",
        "    Test the process_feeds function.\n",
        "    \"\"\"\n",
        "    # Mock dependencies\n",
        "    mock_get_proxy_settings.return_value = mock_proxy_settings\n",
        "    mock_fetch_feed.return_value = \"Mock RSS Feed Content\"\n",
        "    mock_parse_feed.return_value = mock_feed_data\n",
        "\n",
        "    # Ensure the rss_metadata directory is empty\n",
        "    output_dir = \"rss_metadata\"\n",
        "    if os.path.exists(output_dir):\n",
        "        shutil.rmtree(output_dir)\n",
        "    os.makedirs(output_dir, exist_ok=True)\n",
        "\n",
        "    # Call process_feeds\n",
        "    from rss_collector.orchestration import process_feeds\n",
        "    process_feeds(test_feed_urls)\n",
        "\n",
        "    # Assertions\n",
        "    saved_files = os.listdir(output_dir)\n",
        "    assert len(saved_files) == 1, f\"Expected one metadata file, but found {len(saved_files)}.\"\n",
        "    metadata_file = os.path.join(output_dir, saved_files[0])\n",
        "\n",
        "    # Validate the contents of the metadata file\n",
        "    with open(metadata_file, \"r\") as f:\n",
        "        metadata = json.load(f)\n",
        "\n",
        "    assert \"timestamp\" in metadata, \"Metadata is missing the timestamp key.\"\n",
        "    assert \"articles\" in metadata, \"Metadata is missing the articles key.\"\n",
        "    assert len(metadata[\"articles\"]) == len(mock_feed_data[\"entries\"]), (\n",
        "        f\"Expected {len(mock_feed_data['entries'])} articles, but found {len(metadata['articles'])}.\"\n",
        "    )\n",
        "\n",
        "    # Cleanup after the test\n",
        "    shutil.rmtree(output_dir)\n"
      ]
    }
  ]
}