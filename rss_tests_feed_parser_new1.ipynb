{
  "nbformat": 4,
  "nbformat_minor": 0,
  "metadata": {
    "colab": {
      "provenance": []
    },
    "kernelspec": {
      "name": "python3",
      "display_name": "Python 3"
    },
    "language_info": {
      "name": "python"
    }
  },
  "cells": [
    {
      "cell_type": "code",
      "source": [
        "import pytest\n",
        "from unittest.mock import patch, MagicMock\n",
        "from rss_collector.feed_parser import retry_with_backoff\n",
        "\n",
        "def test_retry_with_backoff_success():\n",
        "    \"\"\"\n",
        "    Test that retry_with_backoff succeeds after a few failed attempts.\n",
        "    \"\"\"\n",
        "    test_url = \"https://example.com/rss\"\n",
        "\n",
        "    # Mock `fetch_feed_content_with_proxy` to fail twice before succeeding\n",
        "    with patch(\"rss_collector.feed_parser.fetch_feed_content_with_proxy\") as mock_fetch:\n",
        "        # First two attempts fail, third succeeds\n",
        "        mock_fetch.side_effect = [None, None, \"<rss>Valid Feed</rss>\"]\n",
        "\n",
        "        # Mock feedparser.parse to return a valid feed\n",
        "        with patch(\"rss_collector.feed_parser.feedparser.parse\") as mock_parse:\n",
        "            mock_parse.return_value = MagicMock(feed={\"title\": \"Test Feed\"}, entries=[])\n",
        "\n",
        "            # Call the function\n",
        "            parsed_feed = retry_with_backoff(test_url, retries=3)\n",
        "\n",
        "            # Debugging outputs\n",
        "            print(f\"Mock Fetch Call Count: {mock_fetch.call_count}\")\n",
        "            print(f\"Parsed Feed: {parsed_feed}\")\n",
        "\n",
        "            # Assertions\n",
        "            assert mock_fetch.call_count == 3, f\"Expected 3 retries, got: {mock_fetch.call_count}\"\n",
        "            assert parsed_feed is not None, \"Expected parsed_feed to be not None.\"\n",
        "            assert parsed_feed.feed[\"title\"] == \"Test Feed\"\n",
        "\n",
        "\n",
        "\n",
        "def test_retry_with_backoff_failure():\n",
        "    \"\"\"\n",
        "    Test that retry_with_backoff returns None after all retries fail.\n",
        "    \"\"\"\n",
        "    test_url = \"https://example.com/rss\"\n",
        "\n",
        "    # Mock `fetch_feed_content_with_proxy` to always fail\n",
        "    with patch(\"rss_collector.feed_parser.fetch_feed_content_with_proxy\") as mock_fetch:\n",
        "        mock_fetch.return_value = None\n",
        "\n",
        "        # Call the function\n",
        "        parsed_feed = retry_with_backoff(test_url, retries=3)\n",
        "\n",
        "        # Assertions\n",
        "        assert mock_fetch.call_count == 3, \"Expected 3 retries, got: {mock_fetch.call_count}\"\n",
        "        assert parsed_feed is None, \"Expected parsed_feed to be None.\"\n",
        "\n"
      ],
      "metadata": {
        "id": "kYvBCSmHeJ9X"
      },
      "execution_count": null,
      "outputs": []
    },
    {
      "cell_type": "code",
      "source": [
        "def retry_with_backoff(feed_url, retries=3, delay=5):\n",
        "    \"\"\"\n",
        "    Retries fetching an RSS feed with exponential backoff.\n",
        "\n",
        "    Args:\n",
        "        feed_url (str): The URL of the RSS feed.\n",
        "        retries (int): The maximum number of retry attempts.\n",
        "        delay (int): The initial delay in seconds before retrying.\n",
        "\n",
        "    Returns:\n",
        "        dict: Parsed feed content if successful, None otherwise.\n",
        "    \"\"\"\n",
        "    for attempt in range(1, retries + 1):\n",
        "        print(f\"Attempt {attempt} to fetch feed: {feed_url}\")\n",
        "        response = fetch_feed_content_with_proxy(feed_url)\n",
        "        print(f\"Response on attempt {attempt}: {response}\")\n",
        "        if response:\n",
        "            feed = feedparser.parse(response)\n",
        "            print(f\"Parsed Feed: {feed}\")\n",
        "            if feed and not feed.bozo:  # Ensure the feed is valid\n",
        "                return feed\n",
        "        print(f\"Retrying in {delay} seconds...\")\n",
        "        time.sleep(delay)\n",
        "        delay *= 2  # Exponential backoff\n",
        "    print(f\"Failed to fetch feed after {retries} attempts: {feed_url}\")\n",
        "    return None\n"
      ],
      "metadata": {
        "id": "EhW_9fJEeMe-"
      },
      "execution_count": null,
      "outputs": []
    }
  ]
}